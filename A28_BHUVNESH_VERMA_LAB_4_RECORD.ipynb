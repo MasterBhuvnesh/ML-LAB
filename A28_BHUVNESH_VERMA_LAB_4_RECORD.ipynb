{
  "nbformat": 4,
  "nbformat_minor": 0,
  "metadata": {
    "colab": {
      "provenance": []
    },
    "kernelspec": {
      "name": "python3",
      "display_name": "Python 3"
    },
    "language_info": {
      "name": "python"
    }
  },
  "cells": [
    {
      "cell_type": "code",
      "source": [
        "# Lab : 04\n",
        "'''\n",
        "This code demonstrates a simple binary classification problem using a neural ,\n",
        "where the goal is to predict whether a student will pass or fail based on the number of hours studied.\n",
        " '''"
      ],
      "metadata": {
        "id": "GIXKE8tsRYUy"
      },
      "execution_count": 1,
      "outputs": []
    },
    {
      "cell_type": "code",
      "source": [
        "import numpy as np\n",
        "import tensorflow as tf\n",
        "from tensorflow.keras.models import Sequential\n",
        "from tensorflow.keras.layers import Dense\n",
        "from tensorflow.keras.optimizers import SGD\n",
        "'''\n",
        "numpy:          Used for numerical operations and array manipulations.\n",
        "tensorflow:     A deep learning framework.\n",
        "Sequential:     A linear stack of layers in Keras.\n",
        "Dense:          A fully connected layer in a neural network.\n",
        "SGD:            Stochastic Gradient Descent optimizer.\n",
        "'''"
      ],
      "metadata": {
        "id": "Tq2PdgQraZBd"
      },
      "execution_count": null,
      "outputs": []
    },
    {
      "cell_type": "code",
      "source": [
        "# Input: Hours studied\n",
        "X = np.array([[1], [2], [3], [4], [5], [6], [7], [8], [9], [10]])\n",
        "\n",
        "# Output: 0 = Fail, 1 = Pass\n",
        "y = np.array([[0], [0], [0], [0], [0], [1], [1], [1], [1], [1]])\n",
        "\n",
        "# Scale input to range [0, 1] for better convergence during training\n",
        "X = X / 10"
      ],
      "metadata": {
        "id": "FrZIcPBubJlg"
      },
      "execution_count": 5,
      "outputs": []
    },
    {
      "cell_type": "code",
      "source": [
        "# A Sequential model is appropriate for a plain stack of layers where each layer has exactly one input tensor and one output tensor.\n",
        "\n",
        "# Define a Sequential model, which is a linear stack of layers\n",
        "model = Sequential([\n",
        "    # Hidden layer with 3 neurons and ReLU activation function\n",
        "    Dense(3, activation='relu', input_shape=(1,)),\n",
        "    # Output layer with 1 neuron and sigmoid activation function for binary classification\n",
        "    Dense(1, activation='sigmoid')\n",
        "])\n",
        "'''\n",
        "Sequential:   A model where layers are added sequentially.\n",
        "Dense(3, activation='relu', input_shape=(1,)):     A hidden layer with 3 neurons and ReLU activation function. The input_shape=(1,) specifies that the input is a single feature (hours studied).\n",
        "Dense(1, activation='sigmoid'):      Output layer with 1 neuron and sigmoid activation function, which outputs a probability between 0 and 1.\n",
        "'''"
      ],
      "metadata": {
        "colab": {
          "base_uri": "https://localhost:8080/",
          "height": 0
        },
        "id": "_bkNUgoUbb9q",
        "outputId": "d8ccdc07-6066-4890-f891-86e8fc2669e5"
      },
      "execution_count": 7,
      "outputs": [
        {
          "output_type": "stream",
          "name": "stderr",
          "text": [
            "/usr/local/lib/python3.11/dist-packages/keras/src/layers/core/dense.py:87: UserWarning: Do not pass an `input_shape`/`input_dim` argument to a layer. When using Sequential models, prefer using an `Input(shape)` object as the first layer in the model instead.\n",
            "  super().__init__(activity_regularizer=activity_regularizer, **kwargs)\n"
          ]
        }
      ]
    },
    {
      "cell_type": "code",
      "source": [
        "# Compile the model with Stochastic Gradient Descent (SGD) optimizer, binary crossentropy loss, and accuracy metric\n",
        "model.compile(optimizer=SGD(learning_rate=0.1), loss='binary_crossentropy', metrics=['accuracy'])\n",
        "\n",
        "'''\n",
        "optimizer=SGD(learning_rate=0.1):   Stochastic Gradient Descent optimizer with a learning rate of 0.1. The optimizer updates the model's weights to minimize the loss.\n",
        "loss='binary_crossentropy':     Binary crossentropy loss function, suitable for binary classification problems.\n",
        "metrics=['accuracy']:    Tracks the accuracy during training.\n",
        "'''"
      ],
      "metadata": {
        "colab": {
          "base_uri": "https://localhost:8080/",
          "height": 70
        },
        "id": "D2Z2wcP5cP4K",
        "outputId": "9bba3e30-0291-4cfe-ca28-f1e74061e724"
      },
      "execution_count": 9,
      "outputs": [
        {
          "output_type": "execute_result",
          "data": {
            "text/plain": [
              "\"\\nmodel.compile(optimizer=SGD(learning_rate=0.1), loss='binary_crossentropy', metrics=['accuracy']):\\noptimizer=SGD(learning_rate=0.1): Stochastic Gradient Descent optimizer with a learning rate of 0.1. The optimizer updates the model's weights to minimize the loss.\\nloss='binary_crossentropy': Binary crossentropy loss function, suitable for binary classification problems.\\nmetrics=['accuracy']: Tracks the accuracy during training.\\n\""
            ],
            "application/vnd.google.colaboratory.intrinsic+json": {
              "type": "string"
            }
          },
          "metadata": {},
          "execution_count": 9
        }
      ]
    },
    {
      "cell_type": "code",
      "source": [
        "# Train the model for 100 epochs with a batch size of 2\n",
        "history = model.fit(X, y, epochs=5, batch_size=2, verbose=1)\n",
        "'''\n",
        "X: Input data.\n",
        "y: Target labels.\n",
        "epochs=100: The model will be trained for 100 iterations over the entire dataset.\n",
        "batch_size=2: The model will update its weights after every 2 samples.\n",
        "verbose=1: Shows the progress bar and loss/accuracy metrics during training.\n",
        "history: Stores the training history, including loss and accuracy over epochs.\n",
        "'''"
      ],
      "metadata": {
        "colab": {
          "base_uri": "https://localhost:8080/",
          "height": 226
        },
        "id": "K2JIq3licdog",
        "outputId": "a51081ad-afd6-424d-8745-6ee3508ae258"
      },
      "execution_count": 18,
      "outputs": [
        {
          "output_type": "stream",
          "name": "stdout",
          "text": [
            "Epoch 1/5\n",
            "\u001b[1m5/5\u001b[0m \u001b[32m━━━━━━━━━━━━━━━━━━━━\u001b[0m\u001b[37m\u001b[0m \u001b[1m0s\u001b[0m 7ms/step - accuracy: 0.5417 - loss: 0.6973 \n",
            "Epoch 2/5\n",
            "\u001b[1m5/5\u001b[0m \u001b[32m━━━━━━━━━━━━━━━━━━━━\u001b[0m\u001b[37m\u001b[0m \u001b[1m0s\u001b[0m 7ms/step - accuracy: 0.5417 - loss: 0.6973 \n",
            "Epoch 3/5\n",
            "\u001b[1m5/5\u001b[0m \u001b[32m━━━━━━━━━━━━━━━━━━━━\u001b[0m\u001b[37m\u001b[0m \u001b[1m0s\u001b[0m 7ms/step - accuracy: 0.3222 - loss: 0.6959 \n",
            "Epoch 4/5\n",
            "\u001b[1m5/5\u001b[0m \u001b[32m━━━━━━━━━━━━━━━━━━━━\u001b[0m\u001b[37m\u001b[0m \u001b[1m0s\u001b[0m 7ms/step - accuracy: 0.5208 - loss: 0.6948 \n",
            "Epoch 5/5\n",
            "\u001b[1m5/5\u001b[0m \u001b[32m━━━━━━━━━━━━━━━━━━━━\u001b[0m\u001b[37m\u001b[0m \u001b[1m0s\u001b[0m 9ms/step - accuracy: 0.6042 - loss: 0.7010 \n"
          ]
        },
        {
          "output_type": "execute_result",
          "data": {
            "text/plain": [
              "'\\nX: Input data.\\ny: Target labels.\\nepochs=100: The model will be trained for 100 iterations over the entire dataset.\\nbatch_size=2: The model will update its weights after every 2 samples.\\nverbose=1: Shows the progress bar and loss/accuracy metrics during training.\\nhistory: Stores the training history, including loss and accuracy over epochs.\\n'"
            ],
            "application/vnd.google.colaboratory.intrinsic+json": {
              "type": "string"
            }
          },
          "metadata": {},
          "execution_count": 18
        }
      ]
    },
    {
      "cell_type": "code",
      "source": [
        "# Predict the pass probability for a new student who studied 4.5 hours\n",
        "new_student = np.array([[2]]) / 10\n",
        "prediction = model.predict(new_student)\n",
        "print(\"Pass Probability:\", prediction[0][0])\n",
        "\n",
        "# Predict the pass probability for a new student who studied 8 hours\n",
        "new_student = np.array([[8]]) / 10\n",
        "prediction = model.predict(new_student)\n",
        "print(\"Pass Probability:\", prediction[0][0])\n",
        "\n",
        "# Predict the pass probability for a new student who studied 5.5 hours\n",
        "new_student = np.array([[5.5]]) / 10\n",
        "prediction = model.predict(new_student)\n",
        "print(\"Pass Probability:\", prediction[0][0])\n",
        "\n",
        "# Predict the pass probability for a new student who studied 7.5 hours\n",
        "new_student = np.array([[7.5]]) / 10\n",
        "prediction = model.predict(new_student)\n",
        "print(\"Pass Probability:\", prediction[0][0])"
      ],
      "metadata": {
        "colab": {
          "base_uri": "https://localhost:8080/",
          "height": 0
        },
        "id": "LIBd5oY2dzm8",
        "outputId": "e87c7d48-bd69-4b4a-dfb3-37afda471b29"
      },
      "execution_count": 19,
      "outputs": [
        {
          "output_type": "stream",
          "name": "stdout",
          "text": [
            "\u001b[1m1/1\u001b[0m \u001b[32m━━━━━━━━━━━━━━━━━━━━\u001b[0m\u001b[37m\u001b[0m \u001b[1m0s\u001b[0m 36ms/step\n",
            "Pass Probability: 0.49974084\n",
            "\u001b[1m1/1\u001b[0m \u001b[32m━━━━━━━━━━━━━━━━━━━━\u001b[0m\u001b[37m\u001b[0m \u001b[1m0s\u001b[0m 47ms/step\n",
            "Pass Probability: 0.49974084\n",
            "\u001b[1m1/1\u001b[0m \u001b[32m━━━━━━━━━━━━━━━━━━━━\u001b[0m\u001b[37m\u001b[0m \u001b[1m0s\u001b[0m 36ms/step\n",
            "Pass Probability: 0.49974084\n",
            "\u001b[1m1/1\u001b[0m \u001b[32m━━━━━━━━━━━━━━━━━━━━\u001b[0m\u001b[37m\u001b[0m \u001b[1m0s\u001b[0m 38ms/step\n",
            "Pass Probability: 0.49974084\n"
          ]
        }
      ]
    },
    {
      "cell_type": "code",
      "source": [
        "# Plot the training loss\n",
        "import matplotlib.pyplot as plt\n",
        "plt.plot(history.history['loss'], label='loss')\n",
        "plt.title('Model Loss')\n",
        "plt.xlabel('Epoch')\n",
        "plt.ylabel('Loss')\n",
        "plt.legend()\n",
        "plt.show()"
      ],
      "metadata": {
        "colab": {
          "base_uri": "https://localhost:8080/",
          "height": 472
        },
        "id": "B0aVGsJZeLFb",
        "outputId": "36e13a79-49d3-4972-ecfd-fc02a5f487f0"
      },
      "execution_count": 16,
      "outputs": [
        {
          "output_type": "display_data",
          "data": {
            "text/plain": [
              "<Figure size 640x480 with 1 Axes>"
            ],
            "image/png": "[encoded data removed]"
          },
          "metadata": {}
        }
      ]
    },
    {
      "cell_type": "code",
      "source": [],
      "metadata": {
        "id": "HEb4RNZhei4k"
      },
      "execution_count": null,
      "outputs": []
    },
    {
      "cell_type": "markdown",
      "source": [
        "```python\n",
        "import numpy as np\n",
        "import tensorflow as tf\n",
        "from tensorflow.keras.models import Sequential\n",
        "from tensorflow.keras.layers import Dense\n",
        "from tensorflow.keras.optimizers import SGD\n",
        "\n",
        "# Input: Hours studied\n",
        "X = np.array([[1], [2], [3], [4], [5], [6], [7], [8], [9], [10]])\n",
        "\n",
        "# Output: 0 = Fail, 1 = Pass\n",
        "y = np.array([[0], [0], [0], [0], [0], [1], [1], [1], [1], [1]])\n",
        "\n",
        "# Scale input to range [0, 1] for better convergence during training\n",
        "X = X / 10\n",
        "\n",
        "# Define a Sequential model, which is a linear stack of layers\n",
        "model = Sequential([\n",
        "    # Hidden layer with 3 neurons and ReLU activation function\n",
        "    Dense(3, activation='relu', input_shape=(1,)),\n",
        "    # Output layer with 1 neuron and sigmoid activation function for binary classification\n",
        "    Dense(1, activation='sigmoid')\n",
        "])\n",
        "\n",
        "# Compile the model with Stochastic Gradient Descent (SGD) optimizer, binary crossentropy loss, and accuracy metric\n",
        "model.compile(optimizer=SGD(learning_rate=0.1), loss='binary_crossentropy', metrics=['accuracy'])\n",
        "\n",
        "# Train the model for 100 epochs with a batch size of 2\n",
        "history = model.fit(X, y, epochs=100, batch_size=2, verbose=1)\n",
        "\n",
        "# Predict the pass probability for a new student who studied 4.5 hours\n",
        "new_student = np.array([[4.5]]) / 10\n",
        "prediction = model.predict(new_student)\n",
        "print(\"Pass Probability:\", prediction[0][0])\n",
        "\n",
        "# Predict the pass probability for a new student who studied 8 hours\n",
        "new_student = np.array([[8]]) / 10\n",
        "prediction = model.predict(new_student)\n",
        "print(\"Pass Probability:\", prediction[0][0])\n",
        "\n",
        "# Predict the pass probability for a new student who studied 5.5 hours\n",
        "new_student = np.array([[5.5]]) / 10\n",
        "prediction = model.predict(new_student)\n",
        "print(\"Pass Probability:\", prediction[0][0])\n",
        "\n",
        "# Predict the pass probability for a new student who studied 7.5 hours\n",
        "new_student = np.array([[7.5]]) / 10\n",
        "prediction = model.predict(new_student)\n",
        "print(\"Pass Probability:\", prediction[0][0])\n",
        "\n",
        "# Plot the training loss\n",
        "import matplotlib.pyplot as plt\n",
        "plt.plot(history.history['loss'], label='loss')\n",
        "plt.title('Model Loss')\n",
        "plt.xlabel('Epoch')\n",
        "plt.ylabel('Loss')\n",
        "plt.legend()\n",
        "plt.show()\n",
        "```\n",
        "\n",
        "### Explanation of the Code:\n",
        "\n",
        "#### 1. **Imports:**\n",
        "   - `numpy`: Used for numerical operations and array manipulations.\n",
        "   - `tensorflow`: A deep learning framework.\n",
        "   - `Sequential`: A linear stack of layers in Keras.\n",
        "   - `Dense`: A fully connected layer in a neural network.\n",
        "   - `SGD`: Stochastic Gradient Descent optimizer.\n",
        "\n",
        "#### 2. **Input and Output Data:**\n",
        "   - `X`: Input data representing hours studied, scaled to the range [0, 1].\n",
        "   - `y`: Output labels (0 for Fail, 1 for Pass).\n",
        "\n",
        "#### 3. **Model Definition:**\n",
        "   - `Sequential`: A model where layers are added sequentially.\n",
        "   - `Dense(3, activation='relu', input_shape=(1,))`: A hidden layer with 3 neurons and ReLU activation function. The `input_shape=(1,)` specifies that the input is a single feature (hours studied).\n",
        "   - `Dense(1, activation='sigmoid')`: Output layer with 1 neuron and sigmoid activation function, which outputs a probability between 0 and 1.\n",
        "\n",
        "#### 4. **Model Compilation:**\n",
        "   - `model.compile(optimizer=SGD(learning_rate=0.1), loss='binary_crossentropy', metrics=['accuracy'])`:\n",
        "     - `optimizer=SGD(learning_rate=0.1)`: Stochastic Gradient Descent optimizer with a learning rate of 0.1. The optimizer updates the model's weights to minimize the loss.\n",
        "     - `loss='binary_crossentropy'`: Binary crossentropy loss function, suitable for binary classification problems.\n",
        "     - `metrics=['accuracy']`: Tracks the accuracy during training.\n",
        "\n",
        "#### 5. **Model Training:**\n",
        "   - `history = model.fit(X, y, epochs=100, batch_size=2, verbose=1)`:\n",
        "     - `X`: Input data.\n",
        "     - `y`: Target labels.\n",
        "     - `epochs=100`: The model will be trained for 100 iterations over the entire dataset.\n",
        "     - `batch_size=2`: The model will update its weights after every 2 samples.\n",
        "     - `verbose=1`: Shows the progress bar and loss/accuracy metrics during training.\n",
        "     - `history`: Stores the training history, including loss and accuracy over epochs.\n",
        "\n",
        "#### 6. **Predictions:**\n",
        "   - `model.predict(new_student)`: Predicts the pass probability for a new student based on the hours studied.\n",
        "   - The input is normalized by dividing by 10 to match the training data scale.\n",
        "\n",
        "#### 7. **Plotting Training Loss:**\n",
        "   - `plt.plot(history.history['loss'], label='loss')`: Plots the training loss over epochs.\n",
        "   - `plt.title('Model Loss')`: Sets the title of the plot.\n",
        "   - `plt.xlabel('Epoch')`: Labels the x-axis as \"Epoch\".\n",
        "   - `plt.ylabel('Loss')`: Labels the y-axis as \"Loss\".\n",
        "   - `plt.legend()`: Adds a legend to the plot.\n",
        "   - `plt.show()`: Displays the plot.\n",
        "\n",
        "### Concepts:\n",
        "\n",
        "#### **Optimizers:**\n",
        "   - **SGD (Stochastic Gradient Descent):** An optimization algorithm that updates the model's weights to minimize the loss function. It uses a fixed learning rate (0.1 in this case) to control the step size during weight updates.\n",
        "   - **Learning Rate:** A hyperparameter that determines the size of the steps taken to reach the minimum loss. A smaller learning rate leads to slower convergence but more precise results, while a larger learning rate may lead to faster convergence but risk overshooting the minimum.\n",
        "\n",
        "#### **Sequential Model:**\n",
        "   - A linear stack of layers where each layer has exactly one input tensor and one output tensor. It is the simplest type of model in Keras, suitable for most feedforward neural networks.\n",
        "\n",
        "#### **Layers:**\n",
        "   - **Dense Layer:** A fully connected layer where each neuron receives input from all the neurons in the previous layer. The number of neurons and activation function are specified.\n",
        "   - **ReLU Activation:** Rectified Linear Unit (ReLU) activation function, defined as `f(x) = max(0, x)`. It introduces non-linearity and helps the model learn complex patterns.\n",
        "   - **Sigmoid Activation:** Outputs a value between 0 and 1, making it suitable for binary classification problems.\n",
        "\n",
        "#### **Model Compilation:**\n",
        "   - **Loss Function (`binary_crossentropy`):** Measures the difference between the predicted and actual labels. For binary classification, binary crossentropy is used.\n",
        "   - **Metrics (`accuracy`):** Tracks the accuracy of the model during training, which is the percentage of correct predictions.\n",
        "\n",
        "#### **Model Training:**\n",
        "   - **Epochs:** One epoch means the model has seen the entire dataset once. Training for 100 epochs means the model will iterate over the dataset 100 times.\n",
        "   - **Batch Size:** The number of samples processed before the model updates its weights. A smaller batch size (e.g., 2) leads to more frequent updates but may result in noisier gradients.\n",
        "   - **Verbose:** Controls the amount of information displayed during training. `verbose=1` shows a progress bar and metrics.\n",
        "\n",
        "This code demonstrates a simple binary classification problem using a neural network, where the goal is to predict whether a student will pass or fail based on the number of hours studied."
      ],
      "metadata": {
        "id": "tf0DlXm2ew6N"
      }
    },
    {
      "cell_type": "markdown",
      "source": [
        "# Part 2"
      ],
      "metadata": {
        "id": "gX_nHFg4e5U8"
      }
    },
    {
      "cell_type": "code",
      "source": [
        "import pandas as pd\n",
        "from sklearn.model_selection import train_test_split\n",
        "from sklearn.preprocessing import OneHotEncoder, StandardScaler\n",
        "from tensorflow.keras import Sequential\n",
        "from tensorflow.keras.layers import Dense\n",
        "\n",
        "# Step 1: Load the dataset\n",
        "df = pd.read_csv('Churn_Modelling.csv')\n",
        "\n",
        "# Step 2: Drop unnecessary columns\n",
        "df.drop(columns=['Surname', 'RowNumber', 'CustomerId'], inplace=True)\n",
        "\n",
        "# Step 3: Separate the target variable (y) and features (X)\n",
        "y = df['Exited'].values\n",
        "X = df.drop(columns=['Exited'])\n",
        "\n",
        "# Step 4: One-Hot Encoding for categorical variables\n",
        "categorical_cols = ['Geography', 'Gender']\n",
        "encoder = OneHotEncoder(drop='first')\n",
        "X_encoded = encoder.fit_transform(X[categorical_cols])\n",
        "encoded_feature_names = encoder.get_feature_names_out(categorical_cols)\n",
        "X_encoded_df = pd.DataFrame(X_encoded.toarray(), columns=encoded_feature_names)\n",
        "X = X.drop(columns=categorical_cols)\n",
        "X = pd.concat([X, X_encoded_df], axis=1)\n",
        "\n",
        "# Step 5: Scale the features\n",
        "scaler = StandardScaler()\n",
        "X_scaled = scaler.fit_transform(X)\n",
        "\n",
        "# Step 6: Split the data into training and testing sets\n",
        "X_train, X_test, y_train, y_test = train_test_split(X_scaled, y, test_size=0.2, random_state=42)\n",
        "\n",
        "# Step 7: Initialize the model\n",
        "model = Sequential()\n",
        "\n",
        "# Step 8: Add layers to the model\n",
        "model.add(Dense(128, activation=\"relu\", input_dim=11))  # Hidden layer with 128 neurons and ReLU activation\n",
        "model.add(Dense(32, activation=\"sigmoid\"))  # Hidden layer with 32 neurons and sigmoid activation\n",
        "model.add(Dense(1, activation=\"sigmoid\"))  # Output layer with 1 neuron and sigmoid activation for binary classification\n",
        "\n",
        "# Step 9: Compile the model\n",
        "model.compile(optimizer='Adam', loss='binary_crossentropy', metrics=['accuracy'])\n",
        "\n",
        "# Step 10: Train the model\n",
        "history = model.fit(X_train, y_train, epochs=50)\n",
        "\n",
        "# Step 11: Evaluate the model and print accuracy\n",
        "loss, accuracy = model.evaluate(X_test, y_test)\n",
        "print(f\"Test Loss: {loss}\")\n",
        "print(f\"Test Accuracy: {accuracy}\")"
      ],
      "metadata": {
        "colab": {
          "base_uri": "https://localhost:8080/",
          "height": 0
        },
        "id": "rr7kKlHxg3aj",
        "outputId": "a9af37eb-5584-4d07-a32b-df28ef14b4d5"
      },
      "execution_count": 21,
      "outputs": [
        {
          "output_type": "stream",
          "name": "stdout",
          "text": [
            "Epoch 1/50\n"
          ]
        },
        {
          "output_type": "stream",
          "name": "stderr",
          "text": [
            "/usr/local/lib/python3.11/dist-packages/keras/src/layers/core/dense.py:87: UserWarning: Do not pass an `input_shape`/`input_dim` argument to a layer. When using Sequential models, prefer using an `Input(shape)` object as the first layer in the model instead.\n",
            "  super().__init__(activity_regularizer=activity_regularizer, **kwargs)\n"
          ]
        },
        {
          "output_type": "stream",
          "name": "stdout",
          "text": [
            "\u001b[1m250/250\u001b[0m \u001b[32m━━━━━━━━━━━━━━━━━━━━\u001b[0m\u001b[37m\u001b[0m \u001b[1m2s\u001b[0m 2ms/step - accuracy: 0.7979 - loss: 0.4795\n",
            "Epoch 2/50\n",
            "\u001b[1m250/250\u001b[0m \u001b[32m━━━━━━━━━━━━━━━━━━━━\u001b[0m\u001b[37m\u001b[0m \u001b[1m1s\u001b[0m 2ms/step - accuracy: 0.8280 - loss: 0.4000\n",
            "Epoch 3/50\n",
            "\u001b[1m250/250\u001b[0m \u001b[32m━━━━━━━━━━━━━━━━━━━━\u001b[0m\u001b[37m\u001b[0m \u001b[1m1s\u001b[0m 2ms/step - accuracy: 0.8506 - loss: 0.3749\n",
            "Epoch 4/50\n",
            "\u001b[1m250/250\u001b[0m \u001b[32m━━━━━━━━━━━━━━━━━━━━\u001b[0m\u001b[37m\u001b[0m \u001b[1m1s\u001b[0m 2ms/step - accuracy: 0.8483 - loss: 0.3681\n",
            "Epoch 5/50\n",
            "\u001b[1m250/250\u001b[0m \u001b[32m━━━━━━━━━━━━━━━━━━━━\u001b[0m\u001b[37m\u001b[0m \u001b[1m1s\u001b[0m 2ms/step - accuracy: 0.8573 - loss: 0.3524\n",
            "Epoch 6/50\n",
            "\u001b[1m250/250\u001b[0m \u001b[32m━━━━━━━━━━━━━━━━━━━━\u001b[0m\u001b[37m\u001b[0m \u001b[1m1s\u001b[0m 2ms/step - accuracy: 0.8552 - loss: 0.3461\n",
            "Epoch 7/50\n",
            "\u001b[1m250/250\u001b[0m \u001b[32m━━━━━━━━━━━━━━━━━━━━\u001b[0m\u001b[37m\u001b[0m \u001b[1m0s\u001b[0m 2ms/step - accuracy: 0.8587 - loss: 0.3433\n",
            "Epoch 8/50\n",
            "\u001b[1m250/250\u001b[0m \u001b[32m━━━━━━━━━━━━━━━━━━━━\u001b[0m\u001b[37m\u001b[0m \u001b[1m1s\u001b[0m 2ms/step - accuracy: 0.8640 - loss: 0.3342\n",
            "Epoch 9/50\n",
            "\u001b[1m250/250\u001b[0m \u001b[32m━━━━━━━━━━━━━━━━━━━━\u001b[0m\u001b[37m\u001b[0m \u001b[1m1s\u001b[0m 2ms/step - accuracy: 0.8645 - loss: 0.3284\n",
            "Epoch 10/50\n",
            "\u001b[1m250/250\u001b[0m \u001b[32m━━━━━━━━━━━━━━━━━━━━\u001b[0m\u001b[37m\u001b[0m \u001b[1m1s\u001b[0m 2ms/step - accuracy: 0.8608 - loss: 0.3317\n",
            "Epoch 11/50\n",
            "\u001b[1m250/250\u001b[0m \u001b[32m━━━━━━━━━━━━━━━━━━━━\u001b[0m\u001b[37m\u001b[0m \u001b[1m1s\u001b[0m 2ms/step - accuracy: 0.8556 - loss: 0.3470\n",
            "Epoch 12/50\n",
            "\u001b[1m250/250\u001b[0m \u001b[32m━━━━━━━━━━━━━━━━━━━━\u001b[0m\u001b[37m\u001b[0m \u001b[1m1s\u001b[0m 2ms/step - accuracy: 0.8665 - loss: 0.3248\n",
            "Epoch 13/50\n",
            "\u001b[1m250/250\u001b[0m \u001b[32m━━━━━━━━━━━━━━━━━━━━\u001b[0m\u001b[37m\u001b[0m \u001b[1m1s\u001b[0m 2ms/step - accuracy: 0.8601 - loss: 0.3316\n",
            "Epoch 14/50\n",
            "\u001b[1m250/250\u001b[0m \u001b[32m━━━━━━━━━━━━━━━━━━━━\u001b[0m\u001b[37m\u001b[0m \u001b[1m1s\u001b[0m 2ms/step - accuracy: 0.8672 - loss: 0.3243\n",
            "Epoch 15/50\n",
            "\u001b[1m250/250\u001b[0m \u001b[32m━━━━━━━━━━━━━━━━━━━━\u001b[0m\u001b[37m\u001b[0m \u001b[1m1s\u001b[0m 2ms/step - accuracy: 0.8677 - loss: 0.3163\n",
            "Epoch 16/50\n",
            "\u001b[1m250/250\u001b[0m \u001b[32m━━━━━━━━━━━━━━━━━━━━\u001b[0m\u001b[37m\u001b[0m \u001b[1m1s\u001b[0m 3ms/step - accuracy: 0.8701 - loss: 0.3203\n",
            "Epoch 17/50\n",
            "\u001b[1m250/250\u001b[0m \u001b[32m━━━━━━━━━━━━━━━━━━━━\u001b[0m\u001b[37m\u001b[0m \u001b[1m1s\u001b[0m 3ms/step - accuracy: 0.8642 - loss: 0.3317\n",
            "Epoch 18/50\n",
            "\u001b[1m250/250\u001b[0m \u001b[32m━━━━━━━━━━━━━━━━━━━━\u001b[0m\u001b[37m\u001b[0m \u001b[1m1s\u001b[0m 2ms/step - accuracy: 0.8691 - loss: 0.3150\n",
            "Epoch 19/50\n",
            "\u001b[1m250/250\u001b[0m \u001b[32m━━━━━━━━━━━━━━━━━━━━\u001b[0m\u001b[37m\u001b[0m \u001b[1m1s\u001b[0m 2ms/step - accuracy: 0.8731 - loss: 0.3145\n",
            "Epoch 20/50\n",
            "\u001b[1m250/250\u001b[0m \u001b[32m━━━━━━━━━━━━━━━━━━━━\u001b[0m\u001b[37m\u001b[0m \u001b[1m1s\u001b[0m 2ms/step - accuracy: 0.8770 - loss: 0.3034\n",
            "Epoch 21/50\n",
            "\u001b[1m250/250\u001b[0m \u001b[32m━━━━━━━━━━━━━━━━━━━━\u001b[0m\u001b[37m\u001b[0m \u001b[1m1s\u001b[0m 2ms/step - accuracy: 0.8644 - loss: 0.3262\n",
            "Epoch 22/50\n",
            "\u001b[1m250/250\u001b[0m \u001b[32m━━━━━━━━━━━━━━━━━━━━\u001b[0m\u001b[37m\u001b[0m \u001b[1m1s\u001b[0m 2ms/step - accuracy: 0.8707 - loss: 0.3092\n",
            "Epoch 23/50\n",
            "\u001b[1m250/250\u001b[0m \u001b[32m━━━━━━━━━━━━━━━━━━━━\u001b[0m\u001b[37m\u001b[0m \u001b[1m1s\u001b[0m 2ms/step - accuracy: 0.8712 - loss: 0.3233\n",
            "Epoch 24/50\n",
            "\u001b[1m250/250\u001b[0m \u001b[32m━━━━━━━━━━━━━━━━━━━━\u001b[0m\u001b[37m\u001b[0m \u001b[1m1s\u001b[0m 2ms/step - accuracy: 0.8735 - loss: 0.3095\n",
            "Epoch 25/50\n",
            "\u001b[1m250/250\u001b[0m \u001b[32m━━━━━━━━━━━━━━━━━━━━\u001b[0m\u001b[37m\u001b[0m \u001b[1m1s\u001b[0m 2ms/step - accuracy: 0.8632 - loss: 0.3185\n",
            "Epoch 26/50\n",
            "\u001b[1m250/250\u001b[0m \u001b[32m━━━━━━━━━━━━━━━━━━━━\u001b[0m\u001b[37m\u001b[0m \u001b[1m1s\u001b[0m 2ms/step - accuracy: 0.8779 - loss: 0.3125\n",
            "Epoch 27/50\n",
            "\u001b[1m250/250\u001b[0m \u001b[32m━━━━━━━━━━━━━━━━━━━━\u001b[0m\u001b[37m\u001b[0m \u001b[1m1s\u001b[0m 2ms/step - accuracy: 0.8744 - loss: 0.3059\n",
            "Epoch 28/50\n",
            "\u001b[1m250/250\u001b[0m \u001b[32m━━━━━━━━━━━━━━━━━━━━\u001b[0m\u001b[37m\u001b[0m \u001b[1m1s\u001b[0m 2ms/step - accuracy: 0.8687 - loss: 0.3125\n",
            "Epoch 29/50\n",
            "\u001b[1m250/250\u001b[0m \u001b[32m━━━━━━━━━━━━━━━━━━━━\u001b[0m\u001b[37m\u001b[0m \u001b[1m1s\u001b[0m 2ms/step - accuracy: 0.8768 - loss: 0.3016\n",
            "Epoch 30/50\n",
            "\u001b[1m250/250\u001b[0m \u001b[32m━━━━━━━━━━━━━━━━━━━━\u001b[0m\u001b[37m\u001b[0m \u001b[1m1s\u001b[0m 2ms/step - accuracy: 0.8687 - loss: 0.3063\n",
            "Epoch 31/50\n",
            "\u001b[1m250/250\u001b[0m \u001b[32m━━━━━━━━━━━━━━━━━━━━\u001b[0m\u001b[37m\u001b[0m \u001b[1m1s\u001b[0m 2ms/step - accuracy: 0.8687 - loss: 0.3118\n",
            "Epoch 32/50\n",
            "\u001b[1m250/250\u001b[0m \u001b[32m━━━━━━━━━━━━━━━━━━━━\u001b[0m\u001b[37m\u001b[0m \u001b[1m1s\u001b[0m 2ms/step - accuracy: 0.8681 - loss: 0.3062\n",
            "Epoch 33/50\n",
            "\u001b[1m250/250\u001b[0m \u001b[32m━━━━━━━━━━━━━━━━━━━━\u001b[0m\u001b[37m\u001b[0m \u001b[1m1s\u001b[0m 2ms/step - accuracy: 0.8732 - loss: 0.3096\n",
            "Epoch 34/50\n",
            "\u001b[1m250/250\u001b[0m \u001b[32m━━━━━━━━━━━━━━━━━━━━\u001b[0m\u001b[37m\u001b[0m \u001b[1m1s\u001b[0m 2ms/step - accuracy: 0.8760 - loss: 0.3048\n",
            "Epoch 35/50\n",
            "\u001b[1m250/250\u001b[0m \u001b[32m━━━━━━━━━━━━━━━━━━━━\u001b[0m\u001b[37m\u001b[0m \u001b[1m1s\u001b[0m 3ms/step - accuracy: 0.8804 - loss: 0.2959\n",
            "Epoch 36/50\n",
            "\u001b[1m250/250\u001b[0m \u001b[32m━━━━━━━━━━━━━━━━━━━━\u001b[0m\u001b[37m\u001b[0m \u001b[1m1s\u001b[0m 3ms/step - accuracy: 0.8659 - loss: 0.3178\n",
            "Epoch 37/50\n",
            "\u001b[1m250/250\u001b[0m \u001b[32m━━━━━━━━━━━━━━━━━━━━\u001b[0m\u001b[37m\u001b[0m \u001b[1m1s\u001b[0m 2ms/step - accuracy: 0.8806 - loss: 0.2944\n",
            "Epoch 38/50\n",
            "\u001b[1m250/250\u001b[0m \u001b[32m━━━━━━━━━━━━━━━━━━━━\u001b[0m\u001b[37m\u001b[0m \u001b[1m1s\u001b[0m 2ms/step - accuracy: 0.8740 - loss: 0.3008\n",
            "Epoch 39/50\n",
            "\u001b[1m250/250\u001b[0m \u001b[32m━━━━━━━━━━━━━━━━━━━━\u001b[0m\u001b[37m\u001b[0m \u001b[1m1s\u001b[0m 2ms/step - accuracy: 0.8780 - loss: 0.3059\n",
            "Epoch 40/50\n",
            "\u001b[1m250/250\u001b[0m \u001b[32m━━━━━━━━━━━━━━━━━━━━\u001b[0m\u001b[37m\u001b[0m \u001b[1m1s\u001b[0m 2ms/step - accuracy: 0.8808 - loss: 0.2965\n",
            "Epoch 41/50\n",
            "\u001b[1m250/250\u001b[0m \u001b[32m━━━━━━━━━━━━━━━━━━━━\u001b[0m\u001b[37m\u001b[0m \u001b[1m0s\u001b[0m 2ms/step - accuracy: 0.8857 - loss: 0.2797\n",
            "Epoch 42/50\n",
            "\u001b[1m250/250\u001b[0m \u001b[32m━━━━━━━━━━━━━━━━━━━━\u001b[0m\u001b[37m\u001b[0m \u001b[1m1s\u001b[0m 2ms/step - accuracy: 0.8793 - loss: 0.2978\n",
            "Epoch 43/50\n",
            "\u001b[1m250/250\u001b[0m \u001b[32m━━━━━━━━━━━━━━━━━━━━\u001b[0m\u001b[37m\u001b[0m \u001b[1m1s\u001b[0m 2ms/step - accuracy: 0.8759 - loss: 0.3017\n",
            "Epoch 44/50\n",
            "\u001b[1m250/250\u001b[0m \u001b[32m━━━━━━━━━━━━━━━━━━━━\u001b[0m\u001b[37m\u001b[0m \u001b[1m1s\u001b[0m 2ms/step - accuracy: 0.8800 - loss: 0.2868\n",
            "Epoch 45/50\n",
            "\u001b[1m250/250\u001b[0m \u001b[32m━━━━━━━━━━━━━━━━━━━━\u001b[0m\u001b[37m\u001b[0m \u001b[1m1s\u001b[0m 2ms/step - accuracy: 0.8774 - loss: 0.2941\n",
            "Epoch 46/50\n",
            "\u001b[1m250/250\u001b[0m \u001b[32m━━━━━━━━━━━━━━━━━━━━\u001b[0m\u001b[37m\u001b[0m \u001b[1m1s\u001b[0m 2ms/step - accuracy: 0.8790 - loss: 0.2956\n",
            "Epoch 47/50\n",
            "\u001b[1m250/250\u001b[0m \u001b[32m━━━━━━━━━━━━━━━━━━━━\u001b[0m\u001b[37m\u001b[0m \u001b[1m1s\u001b[0m 2ms/step - accuracy: 0.8780 - loss: 0.2880\n",
            "Epoch 48/50\n",
            "\u001b[1m250/250\u001b[0m \u001b[32m━━━━━━━━━━━━━━━━━━━━\u001b[0m\u001b[37m\u001b[0m \u001b[1m1s\u001b[0m 2ms/step - accuracy: 0.8830 - loss: 0.2896\n",
            "Epoch 49/50\n",
            "\u001b[1m250/250\u001b[0m \u001b[32m━━━━━━━━━━━━━━━━━━━━\u001b[0m\u001b[37m\u001b[0m \u001b[1m0s\u001b[0m 2ms/step - accuracy: 0.8786 - loss: 0.2953\n",
            "Epoch 50/50\n",
            "\u001b[1m250/250\u001b[0m \u001b[32m━━━━━━━━━━━━━━━━━━━━\u001b[0m\u001b[37m\u001b[0m \u001b[1m1s\u001b[0m 2ms/step - accuracy: 0.8850 - loss: 0.2885\n",
            "\u001b[1m63/63\u001b[0m \u001b[32m━━━━━━━━━━━━━━━━━━━━\u001b[0m\u001b[37m\u001b[0m \u001b[1m0s\u001b[0m 2ms/step - accuracy: 0.8597 - loss: 0.3407\n",
            "Test Loss: 0.345333069562912\n",
            "Test Accuracy: 0.8615000247955322\n"
          ]
        }
      ]
    },
    {
      "cell_type": "code",
      "source": [
        "\n",
        "# Objective:\n",
        "\n",
        "# The primary objective of this project is to develop and evaluate a neural network model for binary classification.\n",
        "# The first part demonstrates a simple model predicting student pass/fail based on study hours. The second part tackles a more complex problem using the Churn_Modelling dataset.\n",
        "# The goal is to accurately predict customer churn (whether a customer will leave a bank). This involves data preprocessing, model building, training, and evaluation of its predictive capabilities.\n",
        "\n",
        "\n",
        "# Conclusion:\n",
        "\n",
        "# The first part successfully demonstrates a basic neural network for binary classification.\n",
        "# The model's ability to predict pass/fail probability based on study hours showcases the fundamental principles of neural network implementation.\n",
        "\n",
        "# The second part shows the model successfully trained on the Churn_Modelling dataset and achieved a test accuracy.\n",
        "# The preprocessing steps, including one-hot encoding for categorical variables and feature scaling, were crucial in preparing the data for the model.\n",
        "# The model architecture, incorporating hidden layers with appropriate activation functions, played a key role in learning complex relationships within the data. Future improvements could involve exploring different model architectures, hyperparameters, or incorporating more advanced techniques to potentially improve accuracy.\n"
      ],
      "metadata": {
        "id": "evfxTW-SxGMo"
      },
      "execution_count": null,
      "outputs": []
    }
  ]
}